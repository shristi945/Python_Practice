{
 "cells": [
  {
   "cell_type": "code",
   "execution_count": null,
   "metadata": {},
   "outputs": [],
   "source": [
    "import spacy\n",
    "import datetime\n",
    "import dateparser\n",
    "from dateparser.search import search_dates\n",
    "from nltk.corpus import stopwords\n",
    "\n",
    "\n",
    "nlp = spacy.load('en_core_web_sm')\n",
    "\n",
    "usr_input = input()\n",
    "\n",
    "doc = nlp(usr_input)\n",
    "\n",
    "# for ent in doc:\n",
    "#     print(ent.text, ent.pos_)\n",
    "    \n",
    "result = {'Location':[], 'Date':[], 'Time':[] }\n",
    "          \n",
    "for ent in doc:\n",
    "    if ent.pos_ == \"PROPN\":\n",
    "        result['Location'].append(ent.text)\n",
    "\n",
    "for ent in doc.ents:\n",
    "    if ent.label_ == \"GPE\":\n",
    "        result['Location'].append(ent.text)\n",
    "    \n",
    "#     if ent.label_ == \"TIME\":\n",
    "#         result['Time'].append(datetime.datetime(ent.text).strftime(\"%I:%M %p\"))\n",
    "\n",
    "#Removing StopWords:\n",
    "word_list = list(usr_input.split())\n",
    "filtered_words = [word for word in word_list if word not in stopwords.words('english')]\n",
    "filtered_string = \" \".join(filtered_words)\n",
    "\n",
    "# print(filtered_string)\n",
    "\n",
    "date_dict = dict(search_dates(filtered_string))\n",
    "# print(date_dict)\n",
    "for key,val in date_dict.items():\n",
    "    x = val\n",
    "#     print(x)\n",
    "    result['Date'].append(x.strftime(\"%d %b\"))\n",
    "    result['Time'].append(x.strftime(\"%I:%M %p\"))\n",
    "\n",
    "\n",
    "print(\"\\n\")\n",
    "print(\"Location: \", \", \".join(set(result['Location'])))\n",
    "print(\"Date: \", \", \".join(result['Date']))\n",
    "print(\"Time: \", \", \".join(set(result['Time'])))\n",
    "        "
   ]
  },
  {
   "cell_type": "code",
   "execution_count": null,
   "metadata": {},
   "outputs": [],
   "source": []
  }
 ],
 "metadata": {
  "kernelspec": {
   "display_name": "Python 3",
   "language": "python",
   "name": "python3"
  },
  "language_info": {
   "codemirror_mode": {
    "name": "ipython",
    "version": 3
   },
   "file_extension": ".py",
   "mimetype": "text/x-python",
   "name": "python",
   "nbconvert_exporter": "python",
   "pygments_lexer": "ipython3",
   "version": "3.7.1"
  }
 },
 "nbformat": 4,
 "nbformat_minor": 2
}
