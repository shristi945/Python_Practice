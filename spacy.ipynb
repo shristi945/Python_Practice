{
 "cells": [
  {
   "cell_type": "code",
   "execution_count": 22,
   "metadata": {},
   "outputs": [
    {
     "name": "stdout",
     "output_type": "stream",
     "text": [
      "book a flight from Bangalore to Delhi for tomorrow at 9 am\n",
      "\n",
      "\n",
      "Location:  Delhi, Bangalore\n",
      "Date:  17 May\n",
      "Time:  09:00 AM\n"
     ]
    }
   ],
   "source": [
    "#Required Libraries\n",
    "\n",
    "import spacy\n",
    "import datetime\n",
    "import dateparser\n",
    "from dateparser.search import search_dates\n",
    "from nltk.corpus import stopwords\n",
    "\n",
    "#loading spacy model for english language\n",
    "nlp = spacy.load('en_core_web_sm')\n",
    "\n",
    "#Taking user input\n",
    "usr_input = input()\n",
    "\n",
    "#Sending user input through NLP pipeline\n",
    "doc = nlp(usr_input)\n",
    "\n",
    "#Creating a result dictionary for output    \n",
    "result = {'Location':[], 'Date':[], 'Time':[] }\n",
    "          \n",
    "#Iterating each entity in doc to find all the prepsitions    \n",
    "for ent in doc:\n",
    "    if ent.pos_ == \"PROPN\":\n",
    "        result['Location'].append(ent.text)\n",
    "\n",
    "#Iterating  each entity in doc to find all the Geopolitical Entity and Time label\n",
    "for ent in doc.ents:\n",
    "    \n",
    "    if ent.label_ == \"GPE\":\n",
    "        result['Location'].append(ent.text)\n",
    "        \n",
    "    if ent.label_ == \"TIME\":\n",
    "        result['Time'].append(dateparser.parse('9 am').strftime(\"%I:%M %p\"))\n",
    "\n",
    "#Removing StopWords:\n",
    "word_list = list(usr_input.split())\n",
    "filtered_words = [word for word in word_list if word not in stopwords.words('english')]\n",
    "filtered_string = \" \".join(filtered_words)\n",
    "\n",
    "\n",
    "#Searching dates in filtered string\n",
    "date_dict = dict(search_dates(filtered_string))\n",
    "\n",
    "#Iterating date dictionary ---> keys:date in input  value--> formated date \n",
    "for key,val in date_dict.items():\n",
    "    x = val\n",
    "    result['Date'].append(x.strftime(\"%d %b\"))\n",
    "    if len(result['Time']) == 0:\n",
    "        result['Time'].append(x.strftime(\"%I:%M %p\"))\n",
    "\n",
    "\n",
    "#Printing Output\n",
    "\n",
    "print(\"\\n\")\n",
    "print(\"Location: \", \", \".join(set(result['Location'])))\n",
    "print(\"Date: \", \", \".join(result['Date']))\n",
    "print(\"Time: \", \", \".join(set(result['Time'])))"
   ]
  },
  {
   "cell_type": "code",
   "execution_count": null,
   "metadata": {},
   "outputs": [],
   "source": []
  }
 ],
 "metadata": {
  "kernelspec": {
   "display_name": "Python 3",
   "language": "python",
   "name": "python3"
  },
  "language_info": {
   "codemirror_mode": {
    "name": "ipython",
    "version": 3
   },
   "file_extension": ".py",
   "mimetype": "text/x-python",
   "name": "python",
   "nbconvert_exporter": "python",
   "pygments_lexer": "ipython3",
   "version": "3.7.1"
  }
 },
 "nbformat": 4,
 "nbformat_minor": 2
}
