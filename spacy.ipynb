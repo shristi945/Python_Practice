{
 "cells": [
  {
   "cell_type": "code",
   "execution_count": 18,
   "metadata": {},
   "outputs": [
    {
     "name": "stdout",
     "output_type": "stream",
     "text": [
      "Location:  U.K., Delhi\n",
      "Date:  16 May\n",
      "Time:  11 am for\n"
     ]
    }
   ],
   "source": [
    "import spacy\n",
    "import datetime\n",
    "nlp = spacy.load('en_core_web_sm')\n",
    "\n",
    "doc = nlp(u'book a flight from U.K. to Delhi at 11 am for tomorrow')\n",
    "\n",
    "# for ent in doc.ents:\n",
    "#     print(ent.text, ent.start_char, ent.end_char, ent.label_)\n",
    "\n",
    "result = {'Location':[], 'Date':[], 'Time':[] }\n",
    "          \n",
    "today = datetime.date.today()\n",
    "for ent in doc.ents:\n",
    "    if ent.label_ == \"GPE\":\n",
    "        result['Location'].append(ent.text)\n",
    "    if ent.label_ == \"TIME\":\n",
    "        result['Time'].append(ent.text)\n",
    "    if ent.label_ == \"DATE\":\n",
    "        if ent.text == \"tomorrow\":\n",
    "            date = today + datetime.timedelta(days=1)\n",
    "        elif ent.text == \"today\":\n",
    "            date = today\n",
    "        elif ent.text == \"yesterday\":\n",
    "            date = today - datetime.timedelta(days=1)\n",
    "        else:\n",
    "            date = ent.text\n",
    "        x = date  \n",
    "        result['Date'].append(x.strftime(\"%d %b\"))\n",
    "\n",
    "print(\"Location: \", \", \".join(result['Location']))\n",
    "print(\"Date: \", \", \".join(result['Date']))\n",
    "print(\"Time: \", \", \".join(result['Time']))\n",
    "        "
   ]
  },
  {
   "cell_type": "code",
   "execution_count": null,
   "metadata": {},
   "outputs": [],
   "source": []
  },
  {
   "cell_type": "code",
   "execution_count": null,
   "metadata": {},
   "outputs": [],
   "source": []
  }
 ],
 "metadata": {
  "kernelspec": {
   "display_name": "Python 3",
   "language": "python",
   "name": "python3"
  },
  "language_info": {
   "codemirror_mode": {
    "name": "ipython",
    "version": 3
   },
   "file_extension": ".py",
   "mimetype": "text/x-python",
   "name": "python",
   "nbconvert_exporter": "python",
   "pygments_lexer": "ipython3",
   "version": "3.7.1"
  }
 },
 "nbformat": 4,
 "nbformat_minor": 2
}
