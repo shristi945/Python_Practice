{
 "cells": [
  {
   "cell_type": "code",
   "execution_count": 5,
   "metadata": {},
   "outputs": [
    {
     "name": "stdout",
     "output_type": "stream",
     "text": [
      "I will be in Bangalore from 25 sep to 28 sep\n",
      "\n",
      "\n",
      "Location:  Bangalore\n",
      "Date:  29 Sep, 25 Sep\n",
      "Time:  12:00 AM\n"
     ]
    }
   ],
   "source": [
    "#Required Libraries\n",
    "import pandas as pd\n",
    "import datetime\n",
    "import dateparser\n",
    "from duckling import DucklingWrapper\n",
    "from nltk.corpus import stopwords\n",
    "\n",
    "#Taking user input\n",
    "usr_input = input()\n",
    "\n",
    "\n",
    "#Creating a result dictionary for output    \n",
    "result = {'Location':[], 'Date':[], 'Time':[] }\n",
    "\n",
    "\n",
    "#Removing StopWords to filter out possible words for location:\n",
    "word_list = list(usr_input.split())\n",
    "filtered_words = [word for word in word_list if word not in stopwords.words('english')]\n",
    "filtered_string = \" \".join(filtered_words)\n",
    "tokens = filtered_string.split()\n",
    "\n",
    "#reading a location file: Location.xlsx contains the list of all the states and cities of India\n",
    "df = pd.read_csv(\"location.csv\")\n",
    "\n",
    "#creating a list of locations present in input string\n",
    "for element in tokens:\n",
    "    for index in range(len(df)):\n",
    "        if df['Location'].iloc[index].upper() == element.upper():\n",
    "            result['Location'].append(element)\n",
    "\n",
    "\n",
    "\n",
    "#implementing DucklingWrapper for parsing date and time from the given input\n",
    "d = DucklingWrapper()\n",
    "date = d.parse_time(usr_input, reference_time=str(datetime.datetime.today()))\n",
    "\n",
    "#checking if user input contains \"from 25 sep to 29 sep\" kind of string \n",
    "#because when we have such kind of input we need to get the date and time from a dictionary having keys as 'to' and 'from'\n",
    "\n",
    "if type(date[0]['value']['value']) == type(\"\"):\n",
    "    result['Time'].append(dateparser.parse(date[0]['value']['value']).strftime(\"%I:%M %p\"))\n",
    "    result['Date'].append(dateparser.parse(date[0]['value']['value']).strftime(\"%d %b\"))\n",
    "\n",
    "elif type(date[0]['value']['value']) == type({}):\n",
    "    result['Time'].append(dateparser.parse(date[0]['value']['value']['to']).strftime(\"%I:%M %p\"))\n",
    "    result['Time'].append(dateparser.parse(date[0]['value']['value']['from']).strftime(\"%I:%M %p\"))\n",
    "    result['Date'].append(dateparser.parse(date[0]['value']['value']['from']).strftime(\"%d %b\"))\n",
    "    result['Date'].append(dateparser.parse(date[0]['value']['value']['to']).strftime(\"%d %b\"))\n",
    "    \n",
    "\n",
    "\n",
    "        \n",
    "# Printing Output\n",
    "\n",
    "print(\"\\n\")\n",
    "print(\"Location: \", \", \".join(set(result['Location'])))\n",
    "print(\"Date: \", \", \".join(set(result['Date'])))\n",
    "print(\"Time: \", \", \".join(set(result['Time'])))\n",
    "        "
   ]
  },
  {
   "cell_type": "code",
   "execution_count": null,
   "metadata": {},
   "outputs": [],
   "source": []
  }
 ],
 "metadata": {
  "kernelspec": {
   "display_name": "Python 3",
   "language": "python",
   "name": "python3"
  },
  "language_info": {
   "codemirror_mode": {
    "name": "ipython",
    "version": 3
   },
   "file_extension": ".py",
   "mimetype": "text/x-python",
   "name": "python",
   "nbconvert_exporter": "python",
   "pygments_lexer": "ipython3",
   "version": "3.7.1"
  }
 },
 "nbformat": 4,
 "nbformat_minor": 2
}
