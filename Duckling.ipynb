{
 "cells": [
  {
   "cell_type": "code",
   "execution_count": 80,
   "metadata": {},
   "outputs": [
    {
     "name": "stdout",
     "output_type": "stream",
     "text": [
      "let's go for a movie tomorrow 9pm\n",
      "\n",
      "\n",
      "Location:  \n",
      "Date:  17 May\n",
      "Time:  06:00 PM\n"
     ]
    }
   ],
   "source": [
    "#Required Libraries\n",
    "\n",
    "import spacy\n",
    "import datetime\n",
    "import dateparser\n",
    "from dateparser.search import search_dates\n",
    "from duckling import DucklingWrapper\n",
    "\n",
    "#loading spacy model for english language\n",
    "nlp = spacy.load('en_core_web_sm')\n",
    "\n",
    "#Taking user input\n",
    "usr_input = input()\n",
    "\n",
    "#Sending user input through NLP pipeline\n",
    "doc = nlp(usr_input)\n",
    "\n",
    "#Creating a result dictionary for output    \n",
    "result = {'Location':[], 'Date':[], 'Time':[] }\n",
    "          \n",
    "    \n",
    "#Iterating  each entity in doc to find all the Geopolitical Entity\n",
    "for ent in doc.ents:\n",
    "    \n",
    "    if ent.label_ == \"GPE\":\n",
    "        result['Location'].append(ent.text)\n",
    "\n",
    "#implementing DucklingWrapper for date and time extraction\n",
    "d = DucklingWrapper()\n",
    "\n",
    "date = d.parse_time(usr_input, reference_time=str(datetime.datetime.today()))\n",
    "result['Time'].append(dateparser.parse(res[0]['value']['value']).strftime(\"%I:%M %p\"))\n",
    "result['Date'].append(dateparser.parse(res[0]['value']['value']).strftime(\"%d %b\"))\n",
    "\n",
    "\n",
    "#Searching dates in filtered string\n",
    "date_dict = dict(search_dates(usr_input))\n",
    "\n",
    "#Iterating date dictionary ---> keys:date in input  value--> formated date \n",
    "for key,val in date_dict.items():\n",
    "    x = val\n",
    "    result['Date'].append(x.strftime(\"%d %b\"))\n",
    "\n",
    "#checking extra date in the result['Date'] list\n",
    "\n",
    "if len(result['Date']) > 1:\n",
    "    result['Date'].remove(datetime.datetime.today().strftime(\"%d %b\"))\n",
    "\n",
    "        \n",
    "# Printing Output\n",
    "\n",
    "print(\"\\n\")\n",
    "print(\"Location: \", \", \".join(set(result['Location'])))\n",
    "print(\"Date: \", \", \".join(result['Date']))\n",
    "print(\"Time: \", \", \".join(set(result['Time'])))"
   ]
  },
  {
   "cell_type": "code",
   "execution_count": null,
   "metadata": {},
   "outputs": [],
   "source": []
  }
 ],
 "metadata": {
  "kernelspec": {
   "display_name": "Python 3",
   "language": "python",
   "name": "python3"
  },
  "language_info": {
   "codemirror_mode": {
    "name": "ipython",
    "version": 3
   },
   "file_extension": ".py",
   "mimetype": "text/x-python",
   "name": "python",
   "nbconvert_exporter": "python",
   "pygments_lexer": "ipython3",
   "version": "3.7.1"
  }
 },
 "nbformat": 4,
 "nbformat_minor": 2
}
