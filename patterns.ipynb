{
 "cells": [
  {
   "cell_type": "code",
   "execution_count": 16,
   "metadata": {},
   "outputs": [
    {
     "name": "stdout",
     "output_type": "stream",
     "text": [
      "*\n",
      "     *  * \n",
      "    *  *  *  * \n",
      "   *  *  *  *  *  * \n",
      "  *  *  *  *  *  *  *  * \n",
      " *  *  *  *  *  *  *  *  *  * \n"
     ]
    }
   ],
   "source": [
    "print(\"*\")\n",
    "for i in range(5):\n",
    "    for j in range(5-(i+1)):\n",
    "        print(\" \", end = \"\")\n",
    "    for k in range(i+1):\n",
    "        print(\"*\", end = \"\")\n",
    "    for l in range(i+1):\n",
    "        print(\"* \", end=\"\")\n",
    "    print(\"\")\n",
    "  "
   ]
  },
  {
   "cell_type": "code",
   "execution_count": 23,
   "metadata": {},
   "outputs": [
    {
     "name": "stdout",
     "output_type": "stream",
     "text": [
      "    * *\n",
      "    * *\n",
      "   * * **\n",
      "   * * **\n",
      "  * * * ***\n",
      "  * * * ***\n",
      " * * * * ****\n",
      " * * * * ****\n",
      "* * * * * *****\n",
      "* * * * * *****\n"
     ]
    }
   ],
   "source": [
    "for i in range(5):\n",
    "        for c in range(2):\n",
    "            for j in range(5-(i+1)):\n",
    "                print(\" \", end=\"\")\n",
    "            for k in range(i+1):\n",
    "                print(\"* \", end= \"\")\n",
    "                \n",
    "            for l in range(i+1):\n",
    "                print(\"*\", end=\"\")\n",
    "                \n",
    "            print(\"\")\n",
    "    "
   ]
  },
  {
   "cell_type": "code",
   "execution_count": null,
   "metadata": {},
   "outputs": [],
   "source": []
  }
 ],
 "metadata": {
  "kernelspec": {
   "display_name": "Python 3",
   "language": "python",
   "name": "python3"
  },
  "language_info": {
   "codemirror_mode": {
    "name": "ipython",
    "version": 3
   },
   "file_extension": ".py",
   "mimetype": "text/x-python",
   "name": "python",
   "nbconvert_exporter": "python",
   "pygments_lexer": "ipython3",
   "version": "3.7.1"
  }
 },
 "nbformat": 4,
 "nbformat_minor": 2
}
